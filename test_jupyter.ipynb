{
 "metadata": {
  "language_info": {
   "codemirror_mode": {
    "name": "ipython",
    "version": 3
   },
   "file_extension": ".py",
   "mimetype": "text/x-python",
   "name": "python",
   "nbconvert_exporter": "python",
   "pygments_lexer": "ipython3",
   "version": "3.8.5"
  },
  "orig_nbformat": 2,
  "kernelspec": {
   "name": "python3",
   "display_name": "Python 3.8.5 64-bit ('myenv': venv)",
   "metadata": {
    "interpreter": {
     "hash": "1a8ce35d742697affc71fdc84314eb21c511751d3d32c4a3e599d0c11a520faf"
    }
   }
  }
 },
 "nbformat": 4,
 "nbformat_minor": 2,
 "cells": [
  {
   "cell_type": "code",
   "execution_count": 7,
   "metadata": {},
   "outputs": [],
   "source": [
    "import pandas as pd\n",
    "import time\n",
    "import lxml\n",
    "import requests\n",
    "import numpy as np\n",
    "import datetime\n",
    "import requests\n",
    "from bs4 import BeautifulSoup\n",
    "import pandas.tseries.offsets as offsets"
   ]
  },
  {
   "cell_type": "code",
   "execution_count": 8,
   "metadata": {},
   "outputs": [
    {
     "output_type": "execute_result",
     "data": {
      "text/plain": [
       "[   4/6  火  7  水  8  木  9  金  10  土  11  日  12  月  13  火  14  水  15  木  16  金  \\\n",
       " 0     NaN   NaN   NaN   NaN    NaN    NaN    NaN    NaN    NaN    NaN    NaN   \n",
       " \n",
       "    17  土  18  日  19  月  \n",
       " 0    NaN    NaN    NaN  ,\n",
       "    4/6  火  7  水  8  木  9  金  10  土  11  日  12  月  13  火  14  水  15  木  16  金  \\\n",
       " 0     NaN   NaN   NaN   NaN    NaN    NaN    NaN    NaN    NaN    NaN    NaN   \n",
       " \n",
       "    17  土  18  日  19  月  \n",
       " 0    NaN    NaN    NaN  ,\n",
       "    4/6  火  7  水  8  木  9  金  10  土  11  日  12  月  13  火  14  水  15  木  16  金  \\\n",
       " 0     NaN   NaN   NaN   NaN    NaN    NaN    NaN    NaN    NaN    NaN    NaN   \n",
       " \n",
       "    17  土  18  日  19  月  \n",
       " 0    NaN    NaN    NaN  ,\n",
       "    4/6  火  7  水  8  木  9  金  10  土  11  日  12  月  13  火  14  水  15  木  16  金  \\\n",
       " 0     NaN   NaN   NaN   NaN    NaN    NaN    NaN    NaN    NaN    NaN    NaN   \n",
       " \n",
       "    17  土  18  日  19  月  \n",
       " 0    NaN    NaN    NaN  ,\n",
       "    4/6  火  7  水  8  木  9  金  10  土  11  日  12  月  13  火  14  水  15  木  16  金  \\\n",
       " 0     NaN   NaN   NaN   NaN      1      1      1    NaN      1    NaN      1   \n",
       " \n",
       "    17  土  18  日  19  月  \n",
       " 0    NaN    NaN    NaN  ,\n",
       "    4/6  火  7  水  8  木  9  金  10  土  11  日  12  月  13  火  14  水  15  木  16  金  \\\n",
       " 0     NaN   NaN   NaN     1    NaN    NaN    NaN    NaN      1    NaN      1   \n",
       " \n",
       "    17  土  18  日  19  月  \n",
       " 0    NaN    NaN    NaN  ,\n",
       "    4/6  火  7  水  8  木  9  金  10  土  11  日  12  月  13  火  14  水  15  木  16  金  \\\n",
       " 0     NaN   NaN   NaN     2    NaN      1      2      2      2    NaN      1   \n",
       " \n",
       "    17  土  18  日  19  月  \n",
       " 0      2      2    NaN  ]"
      ]
     },
     "metadata": {},
     "execution_count": 8
    }
   ],
   "source": [
    "url = 'https://reserve.489ban.net/client/hana-mura/0/plan/availability/room/stay?date=2021-04-06'\n",
    "pd.read_html(url)"
   ]
  },
  {
   "cell_type": "code",
   "execution_count": 9,
   "metadata": {},
   "outputs": [],
   "source": [
    "html = requests.get(url)\n",
    "html.encoding = 'EUC-JP'\n",
    "soup = BeautifulSoup(html.content, 'html.parser')\n"
   ]
  },
  {
   "cell_type": "code",
   "execution_count": 10,
   "metadata": {},
   "outputs": [],
   "source": [
    "#divの指定\n",
    "divs = soup.select('tbody div')\n",
    "\n",
    "#関数定義のコード\n",
    "def div_to_availability(div):\n",
    "    if div.find(class_='fa-circle-o'):\n",
    "        return 'o'\n",
    "    elif div.find(class_='fa-exclamation-triangle'):\n",
    "        return 't'\n",
    "    elif div.find(class_='fa-close'):\n",
    "        return 'c'\n",
    "    elif div.find(class_='fa-phone-square'):\n",
    "        return 's'\n",
    "    elif div.find(class_='fa-minus'):\n",
    "        return 'm'\n",
    "    else:\n",
    "        return str(div.a.string).strip()"
   ]
  },
  {
   "cell_type": "code",
   "execution_count": 11,
   "metadata": {},
   "outputs": [
    {
     "output_type": "execute_result",
     "data": {
      "text/plain": [
       "  0  1  2  3  4  5  6  7  8  9  10 11 12 13\n",
       "0  m  c  c  o  o  o  o  o  o  c  o  o  o  c\n",
       "1  m  c  c  o  t  o  o  o  o  c  t  t  o  c\n",
       "2  m  c  c  o  t  o  o  t  o  c  o  o  o  c\n",
       "3  m  c  c  t  c  t  t  t  c  c  t  t  t  c\n",
       "4  m  c  c  c  1  1  1  c  1  c  1  c  c  c\n",
       "5  m  c  c  1  c  c  c  c  1  c  1  c  c  c\n",
       "6  m  c  c  2  c  1  2  2  2  c  1  2  2  c"
      ],
      "text/html": "<div>\n<style scoped>\n    .dataframe tbody tr th:only-of-type {\n        vertical-align: middle;\n    }\n\n    .dataframe tbody tr th {\n        vertical-align: top;\n    }\n\n    .dataframe thead th {\n        text-align: right;\n    }\n</style>\n<table border=\"1\" class=\"dataframe\">\n  <thead>\n    <tr style=\"text-align: right;\">\n      <th></th>\n      <th>0</th>\n      <th>1</th>\n      <th>2</th>\n      <th>3</th>\n      <th>4</th>\n      <th>5</th>\n      <th>6</th>\n      <th>7</th>\n      <th>8</th>\n      <th>9</th>\n      <th>10</th>\n      <th>11</th>\n      <th>12</th>\n      <th>13</th>\n    </tr>\n  </thead>\n  <tbody>\n    <tr>\n      <th>0</th>\n      <td>m</td>\n      <td>c</td>\n      <td>c</td>\n      <td>o</td>\n      <td>o</td>\n      <td>o</td>\n      <td>o</td>\n      <td>o</td>\n      <td>o</td>\n      <td>c</td>\n      <td>o</td>\n      <td>o</td>\n      <td>o</td>\n      <td>c</td>\n    </tr>\n    <tr>\n      <th>1</th>\n      <td>m</td>\n      <td>c</td>\n      <td>c</td>\n      <td>o</td>\n      <td>t</td>\n      <td>o</td>\n      <td>o</td>\n      <td>o</td>\n      <td>o</td>\n      <td>c</td>\n      <td>t</td>\n      <td>t</td>\n      <td>o</td>\n      <td>c</td>\n    </tr>\n    <tr>\n      <th>2</th>\n      <td>m</td>\n      <td>c</td>\n      <td>c</td>\n      <td>o</td>\n      <td>t</td>\n      <td>o</td>\n      <td>o</td>\n      <td>t</td>\n      <td>o</td>\n      <td>c</td>\n      <td>o</td>\n      <td>o</td>\n      <td>o</td>\n      <td>c</td>\n    </tr>\n    <tr>\n      <th>3</th>\n      <td>m</td>\n      <td>c</td>\n      <td>c</td>\n      <td>t</td>\n      <td>c</td>\n      <td>t</td>\n      <td>t</td>\n      <td>t</td>\n      <td>c</td>\n      <td>c</td>\n      <td>t</td>\n      <td>t</td>\n      <td>t</td>\n      <td>c</td>\n    </tr>\n    <tr>\n      <th>4</th>\n      <td>m</td>\n      <td>c</td>\n      <td>c</td>\n      <td>c</td>\n      <td>1</td>\n      <td>1</td>\n      <td>1</td>\n      <td>c</td>\n      <td>1</td>\n      <td>c</td>\n      <td>1</td>\n      <td>c</td>\n      <td>c</td>\n      <td>c</td>\n    </tr>\n    <tr>\n      <th>5</th>\n      <td>m</td>\n      <td>c</td>\n      <td>c</td>\n      <td>1</td>\n      <td>c</td>\n      <td>c</td>\n      <td>c</td>\n      <td>c</td>\n      <td>1</td>\n      <td>c</td>\n      <td>1</td>\n      <td>c</td>\n      <td>c</td>\n      <td>c</td>\n    </tr>\n    <tr>\n      <th>6</th>\n      <td>m</td>\n      <td>c</td>\n      <td>c</td>\n      <td>2</td>\n      <td>c</td>\n      <td>1</td>\n      <td>2</td>\n      <td>2</td>\n      <td>2</td>\n      <td>c</td>\n      <td>1</td>\n      <td>2</td>\n      <td>2</td>\n      <td>c</td>\n    </tr>\n  </tbody>\n</table>\n</div>"
     },
     "metadata": {},
     "execution_count": 11
    }
   ],
   "source": [
    "#成形する\n",
    "availabilities = [div_to_availability(div) for div in divs]\n",
    "pd.DataFrame(np.split(np.array(availabilities), 7))"
   ]
  },
  {
   "cell_type": "code",
   "execution_count": 14,
   "metadata": {},
   "outputs": [],
   "source": [
    "#サーバーに負荷を掛けないように調整した完成品\n",
    "\n",
    "stay_date_list = list(pd.date_range(start=datetime.datetime.now(), periods=3,  freq='14D').strftime('%Y-%m-%d'))\n",
    "def scrape_hotel_vacancy(stay_date_list):    \n",
    "    hotel_vacancy = {}\n",
    "    for stay_date in tqdm(stay_date_list):\n",
    "        try:\n",
    "            url = 'https://reserve.489ban.net/client/hana-mura/0/plan/availability/room/stay?date=' + stay_date\n",
    "            html = requests.get(url)\n",
    "            html.encoding = 'EUC-JP'\n",
    "            soup = BeautifulSoup(html.content, 'html.parser')\n",
    "            divs = soup.select('tbody div')\n",
    "            availabilities = [div_to_availability(div) for div in divs]\n",
    "            hotel_vacancy[int(stay_date.replace('-',''))] = pd.DataFrame(np.split(np.array(availabilities), 7))\n",
    "            time.sleep(1) #スリープ時間\n",
    "        except IndexError:\n",
    "            continue\n",
    "        except:\n",
    "            break      \n",
    "    return hotel_vacancy"
   ]
  }
 ]
}